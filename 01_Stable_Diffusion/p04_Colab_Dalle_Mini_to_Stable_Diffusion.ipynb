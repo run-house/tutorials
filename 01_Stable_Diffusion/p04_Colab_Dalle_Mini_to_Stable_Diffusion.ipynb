{
  "cells": [
    {
      "cell_type": "markdown",
      "id": "0106efd9",
      "metadata": {
        "id": "0106efd9"
      },
      "source": [
        "Josh and I have talked about using Stable Diffusion to generate a new version of the logo on our\n",
        "landing page every day. Stable diffusion alone hasn't been able to generate anything meaningful, but\n",
        "let's try creating seed images with DalleMini and then use Stable Diffusion img2img to refine them.\n",
        "\n",
        "_Based on: https://github.com/huggingface/diffusers/blob/main/README.md#image-to-image-text-guided-generation-with-stable-diffusion_"
      ]
    },
    {
      "cell_type": "code",
      "execution_count": null,
      "id": "e542ca8e",
      "metadata": {
        "id": "e542ca8e"
      },
      "outputs": [],
      "source": [
        "!pip install git+https://github.com/run-house/runhouse.git@latest_patch"
      ]
    },
    {
      "cell_type": "code",
      "source": [
        "import runhouse as rh\n",
        "import torch\n",
        "from PIL import Image\n",
        "import random"
      ],
      "metadata": {
        "id": "-zDuo8-p6UEm"
      },
      "id": "-zDuo8-p6UEm",
      "execution_count": 6,
      "outputs": []
    },
    {
      "cell_type": "code",
      "source": [
        "!runhouse login"
      ],
      "metadata": {
        "id": "aowBJm1dqdiD"
      },
      "id": "aowBJm1dqdiD",
      "execution_count": null,
      "outputs": []
    },
    {
      "cell_type": "markdown",
      "metadata": {
        "id": "2_WFF9nyRtCB"
      },
      "source": [
        "### Login to Runhouse to load in secrets."
      ],
      "id": "2_WFF9nyRtCB"
    },
    {
      "cell_type": "code",
      "execution_count": null,
      "metadata": {
        "id": "5UnHVWUYplGV"
      },
      "outputs": [],
      "source": [
        "# You can add token=<your token> if you want to be able to run this without pasting into stdin\n",
        "rh.login(download_secrets=True, download_config=True)"
      ],
      "id": "5UnHVWUYplGV"
    },
    {
      "cell_type": "code",
      "execution_count": null,
      "metadata": {
        "id": "3G8NcBOUF4sb"
      },
      "outputs": [],
      "source": [
        "# Only if you're using GCP and running inside Colab!\n",
        "!gcloud init\n",
        "!gcloud auth application-default login\n",
        "!cp -r /content/.config/* ~/.config/gcloud"
      ],
      "id": "3G8NcBOUF4sb"
    },
    {
      "cell_type": "code",
      "execution_count": null,
      "metadata": {
        "id": "0s_uGZSssCrV"
      },
      "outputs": [],
      "source": [
        "# Check that secrets are loaded in properly and at least one cloud is ready to use.\n",
        "!sky check"
      ],
      "id": "0s_uGZSssCrV"
    },
    {
      "cell_type": "markdown",
      "id": "9eded113",
      "metadata": {
        "id": "9eded113"
      },
      "source": [
        "First try just DalleMini. It runs best on an A100, but AWS doesn't offer single A100s (only clusters of 8),\n",
        "so let's run it on gcp.\n",
        "gcp_gpu = rh.cluster(name='a100', instance_type='A100:1', provider='gcp', use_spot=False, autostop_mins=60)"
      ]
    },
    {
      "cell_type": "code",
      "execution_count": 9,
      "id": "874c5c74",
      "metadata": {
        "id": "874c5c74"
      },
      "outputs": [],
      "source": [
        "def dm_generate(prompt, num_images_sqrt=1, supercondition_factor=32, is_mega=True, seed=50, top_k=64):\n",
        "    from min_dalle import MinDalle\n",
        "    import torch\n",
        "    from PIL import Image\n",
        "    torch.cuda.empty_cache()\n",
        "    torch.no_grad()\n",
        "    torch.backends.cuda.matmul.allow_tf32 = True\n",
        "    torch.backends.cuda.matmul.allow_fp16_reduced_precision_reduction = True\n",
        "    dalle = MinDalle(device='cuda', is_mega=is_mega, is_reusable=False, dtype=torch.float16)\n",
        "    images = dalle.generate_images(prompt, seed=seed, grid_size=num_images_sqrt,\n",
        "                                   temperature=1, top_k=top_k, supercondition_factor=supercondition_factor)\n",
        "    images = images.to(torch.uint8).to('cpu').numpy()\n",
        "    return [Image.fromarray(images[i]) for i in range(num_images_sqrt**2)]"
      ]
    },
    {
      "cell_type": "code",
      "source": [
        "gcp_gpu = rh.cluster(name='a100', instance_type='A100:1', provider='gcp', use_spot=False)\n",
        "dm_generate_gpu = rh.send(fn=dm_generate, \n",
        "                          hardware=gcp_gpu,\n",
        "                          reqs=['./', 'min-dalle'],\n",
        "                          load_from=['rns'], save_to=['rns'],\n",
        "                          name='dm_generate')"
      ],
      "metadata": {
        "id": "9JyKm4SiL6om"
      },
      "id": "9JyKm4SiL6om",
      "execution_count": null,
      "outputs": []
    },
    {
      "cell_type": "code",
      "execution_count": null,
      "id": "d0a5b44a",
      "metadata": {
        "id": "d0a5b44a"
      },
      "outputs": [],
      "source": [
        "rh_prompt = 'A digital illustration of a woman running on the roof of a house.'\n",
        "\n",
        "seed = random.randint(0, 1000)\n",
        "rh_logo_dm_images = dm_generate_gpu(rh_prompt, \n",
        "                                    seed=seed,\n",
        "                                    is_mega=False,\n",
        "                                    num_images_sqrt=2,\n",
        "                                    supercondition_factor=256)\n",
        "[image.show() for image in rh_logo_dm_images]"
      ]
    },
    {
      "cell_type": "markdown",
      "id": "12d3e900",
      "metadata": {
        "id": "12d3e900"
      },
      "source": [
        "Now let's try feeding it into StableDiffusionImg2Img. We could put this on a the A100, but it might OOM,\n",
        "so let's put it on a V100 on AWS."
      ]
    },
    {
      "cell_type": "code",
      "execution_count": null,
      "id": "5b962a5b",
      "metadata": {
        "scrolled": false,
        "id": "5b962a5b",
        "outputId": "82c439b3-ef9e-45d7-d090-205a1399b5d3",
        "colab": {
          "base_uri": "https://localhost:8080/",
          "height": 307,
          "referenced_widgets": [
            "7e09e9263b4345bd84bcb84b22a65a80",
            "b145cda86ef84861b79a8484dcae015d",
            "6bf6b4d8411349cfaff54a6960bfd5bd",
            "1ce0c723b5d8448d9d71f2b591b14dce"
          ]
        }
      },
      "outputs": [
        {
          "output_type": "stream",
          "name": "stdout",
          "text": [
            "INFO | 2022-12-14 15:58:05,793 | Writing out send function to /content/sd_img2img__generate_fn.py as functions serialized in notebooks are brittle. Please makesure the function does not rely on any local variables, including imports (which should be moved inside the function body).\n"
          ]
        },
        {
          "output_type": "display_data",
          "data": {
            "text/plain": [
              "Output()"
            ],
            "application/vnd.jupyter.widget-view+json": {
              "version_major": 2,
              "version_minor": 0,
              "model_id": "7e09e9263b4345bd84bcb84b22a65a80"
            }
          },
          "metadata": {}
        },
        {
          "output_type": "display_data",
          "data": {
            "text/plain": [],
            "text/html": [
              "<pre style=\"white-space:pre;overflow-x:auto;line-height:normal;font-family:Menlo,'DejaVu Sans Mono',consolas,'Courier New',monospace\"></pre>\n"
            ]
          },
          "metadata": {}
        },
        {
          "output_type": "display_data",
          "data": {
            "text/plain": [
              "\n"
            ],
            "text/html": [
              "<pre style=\"white-space:pre;overflow-x:auto;line-height:normal;font-family:Menlo,'DejaVu Sans Mono',consolas,'Courier New',monospace\">\n",
              "</pre>\n"
            ]
          },
          "metadata": {}
        },
        {
          "output_type": "display_data",
          "data": {
            "text/plain": [
              "Output()"
            ],
            "application/vnd.jupyter.widget-view+json": {
              "version_major": 2,
              "version_minor": 0,
              "model_id": "6bf6b4d8411349cfaff54a6960bfd5bd"
            }
          },
          "metadata": {}
        },
        {
          "output_type": "display_data",
          "data": {
            "text/plain": [],
            "text/html": [
              "<pre style=\"white-space:pre;overflow-x:auto;line-height:normal;font-family:Menlo,'DejaVu Sans Mono',consolas,'Courier New',monospace\"></pre>\n"
            ]
          },
          "metadata": {}
        },
        {
          "output_type": "display_data",
          "data": {
            "text/plain": [
              "\n"
            ],
            "text/html": [
              "<pre style=\"white-space:pre;overflow-x:auto;line-height:normal;font-family:Menlo,'DejaVu Sans Mono',consolas,'Courier New',monospace\">\n",
              "</pre>\n"
            ]
          },
          "metadata": {}
        },
        {
          "output_type": "stream",
          "name": "stdout",
          "text": [
            "INFO | 2022-12-14 15:58:21,301 | Setting up Send on cluster.\n",
            "INFO | 2022-12-14 15:58:32,306 | Copying local package content to cluster <a100>\n",
            "INFO | 2022-12-14 15:58:32,691 | Installing packages on cluster a100: ['./', 'diffusers', 'transformers']\n",
            "INFO | 2022-12-14 15:58:40,149 | Send setup complete.\n",
            "INFO | 2022-12-14 15:58:40,169 | Running command on a100: python3 -c \"import runhouse as rh; rh.Secrets.download_into_env()\"\n",
            "INFO | 2022-12-14 15:58:41,527 | Loaded Runhouse config from /home/gcpuser/.rh/config.yaml\n",
            "INFO | 2022-12-14 15:58:41,834 | Getting secrets from Vault.\n",
            "WARNING | 2022-12-14 15:58:42,674 | Received secrets for aws which are not configured locally. Run `sky check` for instructions on how to configure. If the secret is for a custom provider, you can set the relevant environment variables manually.\n",
            "WARNING | 2022-12-14 15:58:42,675 | Received secrets for gcp which are not configured locally. Run `sky check` for instructions on how to configure. If the secret is for a custom provider, you can set the relevant environment variables manually.\n",
            "Token will not been saved to git credential helper. Pass `add_to_git_credential=True` if you want to set the git credential as well.\n",
            "Token is valid.\n",
            "Your token has been saved to /home/gcpuser/.huggingface/token\n",
            "Login successful\n",
            "INFO | 2022-12-14 15:58:42,846 | Saved secrets for providers ['aws', 'gcp', 'sky', 'hf'] from Vault to local config files.\n"
          ]
        }
      ],
      "source": [
        "def sd_img2img_generate(prompt, base_images, num_images=1,\n",
        "                        steps=100, strength=0.75, guidance_scale=7.5, model_id=\"stabilityai/stable-diffusion-2-base\"):\n",
        "    from diffusers import StableDiffusionImg2ImgPipeline\n",
        "    import torch\n",
        "    torch.cuda.empty_cache()\n",
        "    torch.no_grad()\n",
        "    sd_pipe = StableDiffusionImg2ImgPipeline.from_pretrained(model_id)\n",
        "    sd_pipe = sd_pipe.to('cuda')\n",
        "    ret = []\n",
        "    for image in base_images:\n",
        "        ret = ret + sd_pipe([prompt] * num_images, init_image=image.resize((512, 512)),\n",
        "                            num_inference_steps=steps, strength=strength,\n",
        "                            guidance_scale=guidance_scale).images\n",
        "    return ret\n",
        "\n",
        "sd_img2img_generate_gpu = rh.send(fn=sd_img2img_generate, hardware='a100',\n",
        "                                  reqs=['./', 'transformers', 'diffusers'],\n",
        "                                  load_secrets=True,\n",
        "                                  load_from=['rns'], save_to=['rns'],\n",
        "                                  name='sd_img2img_generate')"
      ]
    },
    {
      "cell_type": "code",
      "execution_count": null,
      "id": "a328f751",
      "metadata": {
        "id": "a328f751"
      },
      "outputs": [],
      "source": [
        "rh_logo_dm2sd_images = sd_img2img_generate_gpu(rh_prompt, rh_logo_dm_images, strength=.75,\n",
        "                                               guidance_scale=7.5, steps=25)\n",
        "[image.show() for image in rh_logo_dm2sd_images]"
      ]
    },
    {
      "cell_type": "markdown",
      "id": "ea94bd81",
      "metadata": {
        "id": "ea94bd81"
      },
      "source": [
        "Now let's do a tester passing an existing runhouse logo image to SDImg2Img."
      ]
    },
    {
      "cell_type": "code",
      "source": [
        "sd_img2img_generate_gpu.hardware.run(['pip install torch'])"
      ],
      "metadata": {
        "id": "nwXbmvRqXaBU"
      },
      "id": "nwXbmvRqXaBU",
      "execution_count": null,
      "outputs": []
    },
    {
      "cell_type": "code",
      "execution_count": null,
      "id": "c3cab4b0",
      "metadata": {
        "id": "c3cab4b0"
      },
      "outputs": [],
      "source": [
        "rh_base_image = Image.open('rh_logo.png').convert(\"RGB\").resize((512, 512))\n",
        "rh_logo_sd_images = sd_img2img_generate_gpu(rh_prompt, [rh_base_image],\n",
        "                                            strength=.5, guidance_scale=5,\n",
        "                                            num_images=2, steps=100)\n",
        "[display(image) for image in rh_logo_sd_images]"
      ]
    },
    {
      "cell_type": "code",
      "source": [],
      "metadata": {
        "id": "CIl7_j2-Wkl7"
      },
      "id": "CIl7_j2-Wkl7",
      "execution_count": null,
      "outputs": []
    }
  ],
  "metadata": {
    "kernelspec": {
      "display_name": "Python 3 (ipykernel)",
      "language": "python",
      "name": "python3"
    },
    "language_info": {
      "codemirror_mode": {
        "name": "ipython",
        "version": 3
      },
      "file_extension": ".py",
      "mimetype": "text/x-python",
      "name": "python",
      "nbconvert_exporter": "python",
      "pygments_lexer": "ipython3",
      "version": "3.9.15"
    },
    "colab": {
      "provenance": []
    },
    "widgets": {
      "application/vnd.jupyter.widget-state+json": {
        "7e09e9263b4345bd84bcb84b22a65a80": {
          "model_module": "@jupyter-widgets/output",
          "model_name": "OutputModel",
          "model_module_version": "1.0.0",
          "state": {
            "_dom_classes": [],
            "_model_module": "@jupyter-widgets/output",
            "_model_module_version": "1.0.0",
            "_model_name": "OutputModel",
            "_view_count": null,
            "_view_module": "@jupyter-widgets/output",
            "_view_module_version": "1.0.0",
            "_view_name": "OutputView",
            "layout": "IPY_MODEL_b145cda86ef84861b79a8484dcae015d",
            "msg_id": "",
            "outputs": [
              {
                "output_type": "display_data",
                "data": {
                  "text/plain": "\u001b[1;36mRefreshing status for 1 cluster\u001b[0m \u001b[38;5;237m━━━━━━━━━━━━━━━━━━━━━━━━━━━━━━━━━━━━━━━━\u001b[0m \u001b[35m  0%\u001b[0m \u001b[36m-:--:--\u001b[0m\n",
                  "text/html": "<pre style=\"white-space:pre;overflow-x:auto;line-height:normal;font-family:Menlo,'DejaVu Sans Mono',consolas,'Courier New',monospace\"><span style=\"color: #008080; text-decoration-color: #008080; font-weight: bold\">Refreshing status for 1 cluster</span> <span style=\"color: #3a3a3a; text-decoration-color: #3a3a3a\">━━━━━━━━━━━━━━━━━━━━━━━━━━━━━━━━━━━━━━━━</span> <span style=\"color: #800080; text-decoration-color: #800080\">  0%</span> <span style=\"color: #008080; text-decoration-color: #008080\">-:--:--</span>\n</pre>\n"
                },
                "metadata": {}
              }
            ]
          }
        },
        "b145cda86ef84861b79a8484dcae015d": {
          "model_module": "@jupyter-widgets/base",
          "model_name": "LayoutModel",
          "model_module_version": "1.2.0",
          "state": {
            "_model_module": "@jupyter-widgets/base",
            "_model_module_version": "1.2.0",
            "_model_name": "LayoutModel",
            "_view_count": null,
            "_view_module": "@jupyter-widgets/base",
            "_view_module_version": "1.2.0",
            "_view_name": "LayoutView",
            "align_content": null,
            "align_items": null,
            "align_self": null,
            "border": null,
            "bottom": null,
            "display": null,
            "flex": null,
            "flex_flow": null,
            "grid_area": null,
            "grid_auto_columns": null,
            "grid_auto_flow": null,
            "grid_auto_rows": null,
            "grid_column": null,
            "grid_gap": null,
            "grid_row": null,
            "grid_template_areas": null,
            "grid_template_columns": null,
            "grid_template_rows": null,
            "height": null,
            "justify_content": null,
            "justify_items": null,
            "left": null,
            "margin": null,
            "max_height": null,
            "max_width": null,
            "min_height": null,
            "min_width": null,
            "object_fit": null,
            "object_position": null,
            "order": null,
            "overflow": null,
            "overflow_x": null,
            "overflow_y": null,
            "padding": null,
            "right": null,
            "top": null,
            "visibility": null,
            "width": null
          }
        },
        "6bf6b4d8411349cfaff54a6960bfd5bd": {
          "model_module": "@jupyter-widgets/output",
          "model_name": "OutputModel",
          "model_module_version": "1.0.0",
          "state": {
            "_dom_classes": [],
            "_model_module": "@jupyter-widgets/output",
            "_model_module_version": "1.0.0",
            "_model_name": "OutputModel",
            "_view_count": null,
            "_view_module": "@jupyter-widgets/output",
            "_view_module_version": "1.0.0",
            "_view_name": "OutputView",
            "layout": "IPY_MODEL_1ce0c723b5d8448d9d71f2b591b14dce",
            "msg_id": "",
            "outputs": [
              {
                "output_type": "display_data",
                "data": {
                  "text/plain": "\u001b[1;36mRefreshing status for 1 cluster\u001b[0m \u001b[38;5;237m━━━━━━━━━━━━━━━━━━━━━━━━━━━━━━━━━━━━━━━━\u001b[0m \u001b[35m  0%\u001b[0m \u001b[36m-:--:--\u001b[0m\n",
                  "text/html": "<pre style=\"white-space:pre;overflow-x:auto;line-height:normal;font-family:Menlo,'DejaVu Sans Mono',consolas,'Courier New',monospace\"><span style=\"color: #008080; text-decoration-color: #008080; font-weight: bold\">Refreshing status for 1 cluster</span> <span style=\"color: #3a3a3a; text-decoration-color: #3a3a3a\">━━━━━━━━━━━━━━━━━━━━━━━━━━━━━━━━━━━━━━━━</span> <span style=\"color: #800080; text-decoration-color: #800080\">  0%</span> <span style=\"color: #008080; text-decoration-color: #008080\">-:--:--</span>\n</pre>\n"
                },
                "metadata": {}
              }
            ]
          }
        },
        "1ce0c723b5d8448d9d71f2b591b14dce": {
          "model_module": "@jupyter-widgets/base",
          "model_name": "LayoutModel",
          "model_module_version": "1.2.0",
          "state": {
            "_model_module": "@jupyter-widgets/base",
            "_model_module_version": "1.2.0",
            "_model_name": "LayoutModel",
            "_view_count": null,
            "_view_module": "@jupyter-widgets/base",
            "_view_module_version": "1.2.0",
            "_view_name": "LayoutView",
            "align_content": null,
            "align_items": null,
            "align_self": null,
            "border": null,
            "bottom": null,
            "display": null,
            "flex": null,
            "flex_flow": null,
            "grid_area": null,
            "grid_auto_columns": null,
            "grid_auto_flow": null,
            "grid_auto_rows": null,
            "grid_column": null,
            "grid_gap": null,
            "grid_row": null,
            "grid_template_areas": null,
            "grid_template_columns": null,
            "grid_template_rows": null,
            "height": null,
            "justify_content": null,
            "justify_items": null,
            "left": null,
            "margin": null,
            "max_height": null,
            "max_width": null,
            "min_height": null,
            "min_width": null,
            "object_fit": null,
            "object_position": null,
            "order": null,
            "overflow": null,
            "overflow_x": null,
            "overflow_y": null,
            "padding": null,
            "right": null,
            "top": null,
            "visibility": null,
            "width": null
          }
        }
      }
    }
  },
  "nbformat": 4,
  "nbformat_minor": 5
}